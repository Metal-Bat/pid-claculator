{
 "cells": [
  {
   "cell_type": "code",
   "execution_count": 6,
   "metadata": {},
   "outputs": [],
   "source": [
    "from typing import Any\n",
    "from control import TransferFunction\n",
    "from control.matlab import step\n",
    "\n",
    "s: Any = TransferFunction.s"
   ]
  },
  {
   "cell_type": "code",
   "execution_count": 15,
   "metadata": {},
   "outputs": [
    {
     "data": {
      "text/latex": [
       "$$\\frac{s - 1}{s^3 + 6 s^2 + 11 s + 12}$$"
      ],
      "text/plain": [
       "TransferFunction(array([ 1, -1]), array([ 1,  6, 11, 12]))"
      ]
     },
     "execution_count": 15,
     "metadata": {},
     "output_type": "execute_result"
    }
   ],
   "source": [
    "G: object = (s - 1) / ((s**2 + 2 * s + 3)*(s + 4))\n",
    "G"
   ]
  }
 ],
 "metadata": {
  "kernelspec": {
   "display_name": "pid_project",
   "language": "python",
   "name": "python3"
  },
  "language_info": {
   "codemirror_mode": {
    "name": "ipython",
    "version": 3
   },
   "file_extension": ".py",
   "mimetype": "text/x-python",
   "name": "python",
   "nbconvert_exporter": "python",
   "pygments_lexer": "ipython3",
   "version": "3.10.0"
  },
  "orig_nbformat": 4,
  "vscode": {
   "interpreter": {
    "hash": "55a798036dcd5daf83855718ee932abe5a2c4c8e11ea7b1a45ebc0c1ac11938d"
   }
  }
 },
 "nbformat": 4,
 "nbformat_minor": 2
}
