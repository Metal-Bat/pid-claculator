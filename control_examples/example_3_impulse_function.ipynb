{
 "cells": [
  {
   "cell_type": "code",
   "execution_count": 1,
   "metadata": {},
   "outputs": [],
   "source": [
    "from control import TransferFunction\n",
    "from control.matlab import impulse\n",
    "from typing import Any\n",
    "\n",
    "s: Any = TransferFunction.s"
   ]
  }
 ],
 "metadata": {
  "kernelspec": {
   "display_name": "pid_project",
   "language": "python",
   "name": "python3"
  },
  "language_info": {
   "codemirror_mode": {
    "name": "ipython",
    "version": 3
   },
   "file_extension": ".py",
   "mimetype": "text/x-python",
   "name": "python",
   "nbconvert_exporter": "python",
   "pygments_lexer": "ipython3",
   "version": "3.10.0 (default, Nov 17 2022, 14:46:22) [GCC 12.2.0]"
  },
  "orig_nbformat": 4,
  "vscode": {
   "interpreter": {
    "hash": "55a798036dcd5daf83855718ee932abe5a2c4c8e11ea7b1a45ebc0c1ac11938d"
   }
  }
 },
 "nbformat": 4,
 "nbformat_minor": 2
}
